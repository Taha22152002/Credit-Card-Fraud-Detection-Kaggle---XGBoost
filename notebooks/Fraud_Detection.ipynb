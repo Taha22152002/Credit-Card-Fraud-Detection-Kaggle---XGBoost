{
  "nbformat": 4,
  "nbformat_minor": 0,
  "metadata": {
    "colab": {
      "provenance": [],
      "collapsed_sections": [
        "kcHDBg8bAda4",
        "Gc2frO3i6PVS",
        "FqLMv5X1tHpI",
        "gLSNiifGtOsN",
        "6axChFEAtYDQ",
        "euy0sc-gtesQ"
      ],
      "gpuType": "T4"
    },
    "kernelspec": {
      "name": "python3",
      "display_name": "Python 3"
    },
    "language_info": {
      "name": "python"
    },
    "accelerator": "GPU"
  },
  "cells": [
    {
      "cell_type": "markdown",
      "source": [
        "## 🚦 **Problem Understanding & Scoping**"
      ],
      "metadata": {
        "id": "kcHDBg8bAda4"
      }
    },
    {
      "cell_type": "markdown",
      "source": [
        "\n",
        "\n",
        "\n",
        "### 🎯 Objective\n",
        "\n",
        "Build a machine learning model that detects **fraudulent digital payment transactions** using historical transaction data. The goal is to accurately identify high-risk fraudulent activity while minimizing false positives that could inconvenience real users.\n",
        "\n",
        "\n",
        "\n",
        "### 🧾 Problem Definition\n",
        "\n",
        "| Element              | Description                                                                                                                                                                                                                               |\n",
        "| -------------------- | ----------------------------------------------------------------------------------------------------------------------------------------------------------------------------------------------------------------------------------------- |\n",
        "| **Fraud Definition** | Fraud refers to **unauthorized, deceptive, or suspicious** payment activity — such as stolen cards, fake identities, or unusual transaction patterns. It is labeled as **1** (fraud), while legitimate transactions are labeled as **0**. |\n",
        "| **Data Type**        | Tabular data, each row represents a transaction. Features may include amount, time, user ID, location, etc.                                                                                                                               |\n",
        "| **Class Imbalance**  | Typically, <2% of transactions are fraudulent. This introduces a **severe class imbalance** that requires specialized handling.                                                                                                           |\n",
        "| **Prediction Goal**  | Predict the `fraud` label (1/0) for each transaction based on feature inputs.                                                                                                                                                             |\n",
        "\n",
        "\n",
        "\n",
        "### 🚨 False Positive Consideration\n",
        "\n",
        "In fraud detection:\n",
        "\n",
        "* **False Negatives (FN)**: Missed fraud → **Loss of money**\n",
        "* **False Positives (FP)**: Blocking genuine users → **Loss of trust, revenue**\n",
        "\n",
        "💡 **Business tradeoff**: It’s often **better to tolerate some false positives** (block a few real users) than miss fraud. However, **too many FPs** can annoy users and cause drop-offs.\n",
        "\n",
        "**Acceptable False Positive Rate**:\n",
        "\n",
        "* This depends on business tolerance, but a typical target might be **<2% false positives** while catching **>90% of actual fraud cases**.\n",
        "\n",
        "\n",
        "\n",
        "### ⚙️ Inference Mode\n",
        "\n",
        "| Mode          | Explanation                                                                                                                                                       |\n",
        "| ------------- | ----------------------------------------------------------------------------------------------------------------------------------------------------------------- |\n",
        "| **Batch**     | Run fraud detection in scheduled intervals (e.g., every 10 mins). Easier to build and deploy. ✅ Recommended for this project.                                     |\n",
        "| **Real-time** | Detect fraud as each transaction happens (streaming inference). Harder to build, needs APIs and streaming systems like Kafka. ❌ Not needed for this project. |\n",
        "\n",
        "\n",
        "\n",
        "### 📊 Success Metrics\n",
        "\n",
        "Since this is a **binary classification** problem with **imbalanced data**, the following metrics are more useful than plain accuracy:\n",
        "\n",
        "| Metric               | Why Use It?                                                                                           |\n",
        "| -------------------- | ----------------------------------------------------------------------------------------------------- |\n",
        "| **Precision**        | Of all predicted frauds, how many were actually fraud? (minimizes false positives)                    |\n",
        "| **Recall**           | Of all actual frauds, how many did we catch? (minimizes false negatives)                              |\n",
        "| **F1-Score**         | Harmonic mean of precision and recall. Best when you need a balance.                                  |\n",
        "| **ROC-AUC**          | Area under the curve. Measures model’s ability to distinguish fraud from non-fraud at all thresholds. |\n",
        "| **Confusion Matrix** | Provides a breakdown of TP, FP, FN, TN — essential for fraud use case.                                |\n",
        "\n",
        "❌ **Accuracy**: Useless here — a model can get 99% accuracy by predicting \"not fraud\" every time (because fraud is rare).\n",
        "\n"
      ],
      "metadata": {
        "id": "LzlCm297AVHa"
      }
    },
    {
      "cell_type": "markdown",
      "source": [
        "## **1. DATASET COLLECTION** ✔️"
      ],
      "metadata": {
        "id": "Gc2frO3i6PVS"
      }
    },
    {
      "cell_type": "code",
      "source": [
        "import kagglehub\n",
        "\n",
        "# Download latest version\n",
        "path = kagglehub.dataset_download(\"mlg-ulb/creditcardfraud\")\n",
        "\n",
        "print(\"Path to dataset files:\", path)"
      ],
      "metadata": {
        "colab": {
          "base_uri": "https://localhost:8080/"
        },
        "id": "h3z3R730uoJ_",
        "outputId": "b2769fa0-91c4-4579-936b-27c548901fa9"
      },
      "execution_count": null,
      "outputs": [
        {
          "output_type": "stream",
          "name": "stdout",
          "text": [
            "Path to dataset files: /kaggle/input/creditcardfraud\n"
          ]
        }
      ]
    },
    {
      "cell_type": "markdown",
      "source": [
        "## 2. **DATA CLEANSING, DATA PREPROCESSING & FEATURE ENGINEERING** ✔️"
      ],
      "metadata": {
        "id": "FqLMv5X1tHpI"
      }
    },
    {
      "cell_type": "code",
      "source": [
        "import pandas as pd\n",
        "import numpy as np\n",
        "from sklearn.preprocessing import StandardScaler\n",
        "from sklearn.model_selection import train_test_split\n",
        "\n",
        "# Load data\n",
        "df = pd.read_csv('/kaggle/input/creditcardfraud/creditcard.csv')\n",
        "\n",
        "# --- Step 1: Feature Engineering ---\n",
        "\n",
        "# 1.1. Log transformation on 'Amount' to handle skewness\n",
        "df['LOG_AMOUNT'] = np.log1p(df['Amount'])\n",
        "\n",
        "# 1.2. Extract 'Hour' from 'Time'\n",
        "df['HOUR'] = (df['Time'] // 3600) % 24\n",
        "\n",
        "# --- Step 2: Drop unused original columns ---\n",
        "df.drop(['Time', 'Amount'], axis=1, inplace=True)\n",
        "\n",
        "# --- Step 3: Feature Scaling ---\n",
        "\n",
        "# Standardize the PCA features and 'LOG_AMOUNT'\n",
        "scaler = StandardScaler()\n",
        "scaled_cols = [col for col in df.columns if col not in ['Class']]  # All except target\n",
        "\n",
        "df[scaled_cols] = scaler.fit_transform(df[scaled_cols])\n",
        "\n",
        "\n",
        "df.to_csv('Processed_Fraud_Dataset.csv', index=False)\n",
        "\n",
        "print(\"✅ Data is ready for modeling.\")\n",
        "\n",
        "\n"
      ],
      "metadata": {
        "colab": {
          "base_uri": "https://localhost:8080/"
        },
        "id": "PoWTTjA6IKjA",
        "outputId": "463af53f-d058-4d0a-bb71-fdfd5ef96f61"
      },
      "execution_count": null,
      "outputs": [
        {
          "output_type": "stream",
          "name": "stdout",
          "text": [
            "✅ Data is ready for modeling.\n"
          ]
        }
      ]
    },
    {
      "cell_type": "markdown",
      "source": [
        "## **3. MODEL DEVELOPMENT & TRAINING** ✔️"
      ],
      "metadata": {
        "id": "gLSNiifGtOsN"
      }
    },
    {
      "cell_type": "code",
      "source": [
        "from sklearn.model_selection import train_test_split\n",
        "from xgboost import XGBClassifier\n",
        "from sklearn.metrics import classification_report, confusion_matrix\n",
        "\n",
        "\n",
        "df_model = pd.read_csv('Processed_Fraud_Dataset.csv')\n",
        "\n",
        "\n",
        "\n",
        "# 1. Define features (X) and label (y)\n",
        "X = df_model.drop('Class', axis=1)\n",
        "y = df_model['Class']\n",
        "\n",
        "# 2. Train-test split\n",
        "X_train, X_test, y_train, y_test = train_test_split(\n",
        "    X, y, test_size=0.2, stratify=y, random_state=42\n",
        ")\n",
        "\n",
        "# 3. Train XGBoost classifier\n",
        "model = XGBClassifier(\n",
        "    n_estimators=10,\n",
        "    learning_rate=0.1,\n",
        "    max_depth=5,\n",
        "    subsample=0.8,\n",
        "    colsample_bytree=0.8,\n",
        "    use_label_encoder=False,\n",
        "    eval_metric='logloss',\n",
        "    random_state=42,\n",
        ")\n",
        "\n",
        "\n",
        "model.fit(X_train, y_train)\n",
        "\n",
        "# 4. Predict and evaluate\n",
        "y_pred = model.predict(X_test)\n",
        "\n",
        "print(\"✅ Classification Report:\\n\")\n",
        "print(classification_report(y_test, y_pred, digits=4))\n",
        "\n",
        "print(\"\\n📊 Confusion Matrix:\")\n",
        "print(confusion_matrix(y_test, y_pred))\n"
      ],
      "metadata": {
        "id": "Kwns2_WRUuHV",
        "colab": {
          "base_uri": "https://localhost:8080/"
        },
        "outputId": "31e46d39-4088-48c9-d17d-0794e05320e7"
      },
      "execution_count": null,
      "outputs": [
        {
          "output_type": "stream",
          "name": "stderr",
          "text": [
            "/usr/local/lib/python3.11/dist-packages/xgboost/training.py:183: UserWarning: [09:50:28] WARNING: /workspace/src/learner.cc:738: \n",
            "Parameters: { \"use_label_encoder\" } are not used.\n",
            "\n",
            "  bst.update(dtrain, iteration=i, fobj=obj)\n"
          ]
        },
        {
          "output_type": "stream",
          "name": "stdout",
          "text": [
            "✅ Classification Report:\n",
            "\n",
            "              precision    recall  f1-score   support\n",
            "\n",
            "           0     0.9995    0.9998    0.9996     56864\n",
            "           1     0.8372    0.7347    0.7826        98\n",
            "\n",
            "    accuracy                         0.9993     56962\n",
            "   macro avg     0.9184    0.8672    0.8911     56962\n",
            "weighted avg     0.9993    0.9993    0.9993     56962\n",
            "\n",
            "\n",
            "📊 Confusion Matrix:\n",
            "[[56850    14]\n",
            " [   26    72]]\n"
          ]
        }
      ]
    },
    {
      "cell_type": "markdown",
      "source": [
        "## **4. HYPERPARAMETER IDENTIFICATION & FINE-TUNING** ✔️"
      ],
      "metadata": {
        "id": "6axChFEAtYDQ"
      }
    },
    {
      "cell_type": "code",
      "source": [
        "from xgboost import XGBClassifier\n",
        "from sklearn.model_selection import RandomizedSearchCV, StratifiedKFold\n",
        "\n",
        "\n",
        "# Count classes\n",
        "neg = (y == 0).sum()\n",
        "pos = (y == 1).sum()\n",
        "\n",
        "# Compute scale_pos_weight\n",
        "scale_pos_weight = neg / pos\n",
        "print(f\"scale_pos_weight: {scale_pos_weight:.2f}\")\n",
        "\n",
        "# Define parameter grid\n",
        "param_grid = {\n",
        "    'n_estimators': [100, 200, 300],\n",
        "    'max_depth': [3, 5, 7, 9],\n",
        "    'learning_rate': [0.01, 0.05, 0.1, 0.2],\n",
        "    'subsample': [0.6, 0.8, 1.0],\n",
        "    'colsample_bytree': [0.6, 0.8, 1.0],\n",
        "    'gamma': [0, 1, 5],\n",
        "    'scale_pos_weight': [scale_pos_weight]  # very important!\n",
        "}\n",
        "\n",
        "# Set up model\n",
        "model = XGBClassifier(\n",
        "    objective='binary:logistic',\n",
        "    eval_metric='logloss',\n",
        "    use_label_encoder=False,\n",
        "    random_state=42\n",
        ")\n",
        "\n",
        "# CV strategy\n",
        "cv = StratifiedKFold(n_splits=5, shuffle=True, random_state=42)\n",
        "\n",
        "# Search\n",
        "random_search = RandomizedSearchCV(\n",
        "    estimator=model,\n",
        "    param_distributions=param_grid,\n",
        "    scoring='f1',\n",
        "    n_iter=30,\n",
        "    cv=cv,\n",
        "    verbose=1,\n",
        "    n_jobs=-1\n",
        ")\n",
        "\n",
        "# Fit search\n",
        "random_search.fit(X, y)\n",
        "\n",
        "# Best model and params\n",
        "best_model = random_search.best_estimator_\n",
        "print(\"✅ Best Parameters:\", random_search.best_params_)\n"
      ],
      "metadata": {
        "colab": {
          "base_uri": "https://localhost:8080/"
        },
        "id": "dqb8AR1XhUIU",
        "outputId": "e7c104cf-d91c-4dd3-967d-cda904f916cd"
      },
      "execution_count": null,
      "outputs": [
        {
          "output_type": "stream",
          "name": "stdout",
          "text": [
            "scale_pos_weight: 577.88\n",
            "Fitting 5 folds for each of 30 candidates, totalling 150 fits\n"
          ]
        },
        {
          "output_type": "stream",
          "name": "stderr",
          "text": [
            "/usr/local/lib/python3.11/dist-packages/xgboost/training.py:183: UserWarning: [10:06:01] WARNING: /workspace/src/learner.cc:738: \n",
            "Parameters: { \"use_label_encoder\" } are not used.\n",
            "\n",
            "  bst.update(dtrain, iteration=i, fobj=obj)\n"
          ]
        },
        {
          "output_type": "stream",
          "name": "stdout",
          "text": [
            "✅ Best Parameters: {'subsample': 0.6, 'scale_pos_weight': np.float64(577.8760162601626), 'n_estimators': 300, 'max_depth': 5, 'learning_rate': 0.2, 'gamma': 0, 'colsample_bytree': 1.0}\n"
          ]
        }
      ]
    },
    {
      "cell_type": "markdown",
      "source": [
        "## **5. MODEL EVALUATION** ✔️"
      ],
      "metadata": {
        "id": "euy0sc-gtesQ"
      }
    },
    {
      "cell_type": "code",
      "source": [
        "from sklearn.metrics import classification_report, confusion_matrix\n",
        "\n",
        "# Predict\n",
        "y_pred = best_model.predict(X_test)\n",
        "\n",
        "# Evaluate\n",
        "print(\"✅ Classification Report:\\n\")\n",
        "print(classification_report(y_test, y_pred, digits=4))\n",
        "\n",
        "print(\"\\n📊 Confusion Matrix:\")\n",
        "print(confusion_matrix(y_test, y_pred))\n"
      ],
      "metadata": {
        "colab": {
          "base_uri": "https://localhost:8080/"
        },
        "id": "5rBdFAiojU0S",
        "outputId": "3c3445f7-35d0-42d3-a898-43bbd263b718"
      },
      "execution_count": null,
      "outputs": [
        {
          "output_type": "stream",
          "name": "stdout",
          "text": [
            "✅ Classification Report:\n",
            "\n",
            "              precision    recall  f1-score   support\n",
            "\n",
            "           0     1.0000    1.0000    1.0000     56864\n",
            "           1     1.0000    1.0000    1.0000        98\n",
            "\n",
            "    accuracy                         1.0000     56962\n",
            "   macro avg     1.0000    1.0000    1.0000     56962\n",
            "weighted avg     1.0000    1.0000    1.0000     56962\n",
            "\n",
            "\n",
            "📊 Confusion Matrix:\n",
            "[[56864     0]\n",
            " [    0    98]]\n"
          ]
        }
      ]
    },
    {
      "cell_type": "code",
      "source": [
        "from sklearn.model_selection import cross_val_score\n",
        "import matplotlib.pyplot as plt\n",
        "import xgboost as xgb\n",
        "\n",
        "scores = cross_val_score(best_model, X, y, cv=5, scoring='f1')\n",
        "print(\"F1 scores per fold:\", scores)\n",
        "print(\"Average F1 score:\", scores.mean())\n",
        "\n",
        "\n",
        "\n",
        "\n",
        "xgb.plot_importance(best_model, max_num_features=10)\n",
        "plt.title(\"Top 10 Feature Importances\")\n",
        "plt.show()\n"
      ],
      "metadata": {
        "colab": {
          "base_uri": "https://localhost:8080/",
          "height": 878
        },
        "id": "_LRKMO7OqGg8",
        "outputId": "910b0da8-457f-4244-b17a-4cb407211a43"
      },
      "execution_count": null,
      "outputs": [
        {
          "output_type": "stream",
          "name": "stderr",
          "text": [
            "/usr/local/lib/python3.11/dist-packages/xgboost/training.py:183: UserWarning: [10:06:15] WARNING: /workspace/src/learner.cc:738: \n",
            "Parameters: { \"use_label_encoder\" } are not used.\n",
            "\n",
            "  bst.update(dtrain, iteration=i, fobj=obj)\n",
            "/usr/local/lib/python3.11/dist-packages/xgboost/training.py:183: UserWarning: [10:06:26] WARNING: /workspace/src/learner.cc:738: \n",
            "Parameters: { \"use_label_encoder\" } are not used.\n",
            "\n",
            "  bst.update(dtrain, iteration=i, fobj=obj)\n",
            "/usr/local/lib/python3.11/dist-packages/xgboost/training.py:183: UserWarning: [10:06:37] WARNING: /workspace/src/learner.cc:738: \n",
            "Parameters: { \"use_label_encoder\" } are not used.\n",
            "\n",
            "  bst.update(dtrain, iteration=i, fobj=obj)\n",
            "/usr/local/lib/python3.11/dist-packages/xgboost/training.py:183: UserWarning: [10:06:46] WARNING: /workspace/src/learner.cc:738: \n",
            "Parameters: { \"use_label_encoder\" } are not used.\n",
            "\n",
            "  bst.update(dtrain, iteration=i, fobj=obj)\n",
            "/usr/local/lib/python3.11/dist-packages/xgboost/training.py:183: UserWarning: [10:06:57] WARNING: /workspace/src/learner.cc:738: \n",
            "Parameters: { \"use_label_encoder\" } are not used.\n",
            "\n",
            "  bst.update(dtrain, iteration=i, fobj=obj)\n"
          ]
        },
        {
          "output_type": "stream",
          "name": "stdout",
          "text": [
            "F1 scores per fold: [0.77253219 0.90810811 0.70351759 0.8994709  0.82954545]\n",
            "Average F1 score: 0.8226348477810724\n"
          ]
        },
        {
          "output_type": "display_data",
          "data": {
            "text/plain": [
              "<Figure size 640x480 with 1 Axes>"
            ],
            "image/png": "[encoded data removed]"
          },
          "metadata": {}
        }
      ]
    },
    {
      "cell_type": "code",
      "source": [
        "import numpy as np\n",
        "import pandas as pd\n",
        "\n",
        "# Copy of original test data\n",
        "X_test_adv = X_test.copy()\n",
        "\n",
        "# Get predicted probabilities\n",
        "y_pred_proba = best_model.predict_proba(X_test_adv)[:, 1]\n",
        "\n",
        "# Identify correctly predicted fraud cases\n",
        "fraud_indices = (y_test == 1) & (best_model.predict(X_test_adv) == 1)\n",
        "fraud_samples = X_test_adv[fraud_indices]\n",
        "\n",
        "print(f\"✅ Testing {fraud_samples.shape[0]} true positive fraud cases.\")\n",
        "\n",
        "# Apply slight adversarial noise to top 4 features\n",
        "perturbation_rate = 0.10  # 5% change\n",
        "\n",
        "adv_samples = fraud_samples.copy()\n",
        "important_features = ['V4', 'V26', 'V12', 'LOG_AMOUNT']\n",
        "\n",
        "for feat in important_features:\n",
        "    adv_samples[feat] = adv_samples[feat] * (1 - perturbation_rate)\n",
        "\n",
        "# Predict again after perturbation\n",
        "adv_preds = best_model.predict(adv_samples)\n",
        "flipped = (adv_preds == 0).sum()\n",
        "\n",
        "print(f\"⚠️ Model flipped {flipped} predictions out of {len(adv_samples)} after adversarial changes.\")\n"
      ],
      "metadata": {
        "colab": {
          "base_uri": "https://localhost:8080/"
        },
        "id": "hJbKdNy0GPmY",
        "outputId": "78d748b9-cd49-4da6-e202-766de4a29c6f"
      },
      "execution_count": null,
      "outputs": [
        {
          "output_type": "stream",
          "name": "stdout",
          "text": [
            "✅ Testing 98 true positive fraud cases.\n",
            "⚠️ Model flipped 0 predictions out of 98 after adversarial changes.\n"
          ]
        }
      ]
    },
    {
      "cell_type": "code",
      "source": [
        "import joblib\n",
        "joblib.dump(best_model, \"fraud_detector_xgb.pkl\")"
      ],
      "metadata": {
        "colab": {
          "base_uri": "https://localhost:8080/"
        },
        "id": "a4bbuc1cub9E",
        "outputId": "40623fc9-2fb8-44b7-887a-e73b2581db95"
      },
      "execution_count": null,
      "outputs": [
        {
          "output_type": "execute_result",
          "data": {
            "text/plain": [
              "['fraud_detector_xgb.pkl']"
            ]
          },
          "metadata": {},
          "execution_count": 8
        }
      ]
    },
    {
      "cell_type": "markdown",
      "source": [
        "## **6. DEPLOYMENT** ✔️"
      ],
      "metadata": {
        "id": "wUxIWa5Ftmc7"
      }
    },
    {
      "cell_type": "markdown",
      "source": [
        "For Deployment:\n",
        "\n",
        "Download the train model.\n",
        "\n",
        "Download and run requirement.txt file.\n",
        "\n",
        "Download and run model_serve.py file.\n",
        "\n",
        "Download and run test_request.py file.\n",
        "\n",
        "\n"
      ],
      "metadata": {
        "id": "HgOQVGWBNpVv"
      }
    }
  ]
}